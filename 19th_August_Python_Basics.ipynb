{
 "cells": [
  {
   "cell_type": "markdown",
   "id": "b4dd5bd0",
   "metadata": {
    "tags": []
   },
   "source": [
    "## TOPIC: Python Basics Variable"
   ]
  },
  {
   "cell_type": "markdown",
   "id": "ad370f89",
   "metadata": {},
   "source": [
    "----------------------------------------------------------------"
   ]
  },
  {
   "cell_type": "markdown",
   "id": "ffc1c996",
   "metadata": {
    "tags": []
   },
   "source": [
    "#### 1. Declare two variables, 'x' and 'y', and assign them integer values. Swap the values of these variables without using any temporary variable."
   ]
  },
  {
   "cell_type": "code",
   "execution_count": 4,
   "id": "05b94371",
   "metadata": {},
   "outputs": [
    {
     "name": "stdin",
     "output_type": "stream",
     "text": [
      "Enter x value: 34\n",
      "Enter y value: 90\n"
     ]
    },
    {
     "name": "stdout",
     "output_type": "stream",
     "text": [
      "Initial x and y values are 34 and 90\n",
      "x and y values after swapning are 90 and 34\n"
     ]
    }
   ],
   "source": [
    "# By adding and substracting variables\n",
    "\n",
    "# Prompt the user to enter values for x and y and store them as integers\n",
    "x = int(input(\"Enter x value:\"))\n",
    "y = int(input(\"Enter y value:\"))\n",
    "\n",
    "# Print the initial values of x and y\n",
    "print(f\"Initial x and y values are {x} and {y}\")\n",
    "\n",
    "# Swap the values of x and y using arithmetic operations\n",
    "x = x + y  # Add x and y and store the result in x\n",
    "y = x - y  # Subtract the original y from the updated x and store the result in y\n",
    "x = x - y  # Subtract the updated y from the updated x and store the result in x\n",
    "\n",
    "\n",
    "# Print the values of x and y after swapping\n",
    "print(f\"x and y values after swapning are {x} and {y}\")"
   ]
  },
  {
   "cell_type": "code",
   "execution_count": 14,
   "id": "6e05f017",
   "metadata": {},
   "outputs": [
    {
     "name": "stdin",
     "output_type": "stream",
     "text": [
      "Enter x value: 45\n",
      "Enter y value: 45\n"
     ]
    },
    {
     "name": "stdout",
     "output_type": "stream",
     "text": [
      "Initial x and y values are 45 and 45\n",
      "x and y values after swapping are 45 and 45\n"
     ]
    }
   ],
   "source": [
    "# Prompt the user to enter values for x and y and store them as integers\n",
    "x = int(input(\"Enter x value:\"))\n",
    "y = int(input(\"Enter y value:\"))\n",
    "\n",
    "# Print the initial values of x and y\n",
    "print(f\"Initial x and y values are {x} and {y}\")\n",
    "\n",
    "# Swap the values of x and y using tuple packing and unpacking\n",
    "# The single line of code swaps the values of x and y without using a temporary variable\n",
    "x, y = y, x\n",
    "\n",
    "# Print the values of x and y after swapping\n",
    "print(f\"x and y values after swapping are {x} and {y}\")"
   ]
  },
  {
   "cell_type": "markdown",
   "id": "3a4a8738-6b78-4d19-87d8-f890f8a1043d",
   "metadata": {},
   "source": [
    "----------"
   ]
  },
  {
   "cell_type": "markdown",
   "id": "47364411-83b8-404a-85eb-1321f4612379",
   "metadata": {
    "tags": []
   },
   "source": [
    "#### 2. Create a program that calculates the area of a rectangle. Take the length and width as inputs from the user and store them in variables. Calculate and display the area."
   ]
  },
  {
   "cell_type": "code",
   "execution_count": 15,
   "id": "8d93080e-1bb5-41f2-b56a-87577da54968",
   "metadata": {},
   "outputs": [
    {
     "name": "stdin",
     "output_type": "stream",
     "text": [
      "Enter length of the Rectangle in cm:  89\n",
      "Enter width of the Rectangle in cm:  34\n"
     ]
    },
    {
     "name": "stdout",
     "output_type": "stream",
     "text": [
      "Area of the rectangle is 3026.0 cm²\n"
     ]
    }
   ],
   "source": [
    "# Prompt the user to enter the length and width of the rectangle in centimeters\n",
    "length = float(input(\"Enter length of the Rectangle in cm: \"))\n",
    "width = float(input(\"Enter width of the Rectangle in cm: \"))\n",
    "\n",
    "# Calculate the area of the rectangle by multiplying length and width\n",
    "area = length * width\n",
    "\n",
    "# Print the area with the unit \"cm²\"\n",
    "print(f'Area of the rectangle is {area} cm²')\n"
   ]
  },
  {
   "cell_type": "markdown",
   "id": "9759249f-6bfa-472b-9a62-199bcc5ada68",
   "metadata": {},
   "source": [
    "---------"
   ]
  },
  {
   "cell_type": "markdown",
   "id": "235d9751-005d-458f-9634-290ec06041f6",
   "metadata": {
    "tags": []
   },
   "source": [
    "#### 3. Write a Python program that converts temperatures from Celsius to Fahrenheit. Take the temperature in Celsius as input, store it in a variable, convert it to Fahrenheit, and display the result."
   ]
  },
  {
   "cell_type": "code",
   "execution_count": 16,
   "id": "2fd473d2-3f04-431a-81e6-b40d7f46dd9e",
   "metadata": {},
   "outputs": [
    {
     "name": "stdin",
     "output_type": "stream",
     "text": [
      "Enter temperature in Celsius:  32\n"
     ]
    },
    {
     "name": "stdout",
     "output_type": "stream",
     "text": [
      "Converted temperature is 89.6 °F\n"
     ]
    }
   ],
   "source": [
    "# Prompt the user to enter the temperature in Celsius\n",
    "C = float(input('Enter temperature in Celsius: '))\n",
    "\n",
    "# Convert the temperature from Celsius to Fahrenheit using the formula\n",
    "F = (C * 9/5) + 32\n",
    "\n",
    "# Print the converted temperature in Fahrenheit\n",
    "print(f\"Converted temperature is {F} °F\")\n"
   ]
  },
  {
   "cell_type": "markdown",
   "id": "4e8f6e88-ae5a-451a-81c7-4650486805e5",
   "metadata": {},
   "source": [
    "-----------"
   ]
  },
  {
   "cell_type": "markdown",
   "id": "175bc643-c1b2-4cd9-843c-fed9e9be85b2",
   "metadata": {},
   "source": [
    "## TOPIC: String Based Questions"
   ]
  },
  {
   "cell_type": "markdown",
   "id": "a96b5b14-f3a9-4fc2-94dd-1192f6152d37",
   "metadata": {},
   "source": [
    "-----"
   ]
  },
  {
   "cell_type": "markdown",
   "id": "da6c25e7-5446-4cce-8343-2b2de5177386",
   "metadata": {
    "tags": []
   },
   "source": [
    "#### 1. Write a Python program that takes a string as input and prints the length of the string.\n"
   ]
  },
  {
   "cell_type": "code",
   "execution_count": 7,
   "id": "eb58543a-93d0-41ae-8d32-be15364b80ba",
   "metadata": {},
   "outputs": [
    {
     "name": "stdout",
     "output_type": "stream",
     "text": [
      "Length of the string 'Full Stack Data Science Pro' : 27\n"
     ]
    }
   ],
   "source": [
    "# Define the string\n",
    "s = 'Full Stack Data Science Pro'\n",
    "\n",
    "# Calculate and print the length of the string\n",
    "print(f'Length of the string \\'{s}\\' :', len(s))\n"
   ]
  },
  {
   "cell_type": "markdown",
   "id": "8e620844-7e19-4862-a82a-45dd31eeda6a",
   "metadata": {
    "tags": []
   },
   "source": [
    "#### 2. Create a program that takes a sentence from the user and counts the number of vowels (a, e, i, o, u) in the string.\n"
   ]
  },
  {
   "cell_type": "code",
   "execution_count": 17,
   "id": "5a30d457-8ee1-4de2-9217-5eb64e4d8bb3",
   "metadata": {},
   "outputs": [
    {
     "name": "stdin",
     "output_type": "stream",
     "text": [
      "Enter your String:  kioo\n"
     ]
    },
    {
     "name": "stdout",
     "output_type": "stream",
     "text": [
      "The number of vowels (a, e, i, o, u) in 'kioo' are 3\n"
     ]
    }
   ],
   "source": [
    "# Prompt the user to enter a sentence\n",
    "sentence = input('Enter your String: ')\n",
    "\n",
    "# Convert the sentence to lowercase to make it case-insensitive\n",
    "sentence_modified = sentence.lower()\n",
    "\n",
    "# Define a list of vowels\n",
    "vowels = ['a', 'e', 'i', 'o', 'u']\n",
    "\n",
    "# Initialize a count variable for vowels\n",
    "count = 0\n",
    "\n",
    "# Iterate through each character in the modified sentence\n",
    "for char in sentence_modified:\n",
    "    # Check if the character is a vowel\n",
    "    if char in vowels:\n",
    "        count = count + 1\n",
    "\n",
    "# Print the count of vowels in the original sentence\n",
    "print(f'The number of vowels (a, e, i, o, u) in \\'{sentence}\\' are {count}')\n"
   ]
  },
  {
   "cell_type": "markdown",
   "id": "4a72836a-c08a-43cc-a9f1-5ccd51c5ffea",
   "metadata": {},
   "source": [
    "#### 3. Given a string, reverse the order of characters using string slicing and print the reversed string.\n"
   ]
  },
  {
   "cell_type": "code",
   "execution_count": 1,
   "id": "9c002ed6-6ffe-4258-a017-57e83a6b8546",
   "metadata": {},
   "outputs": [
    {
     "name": "stdin",
     "output_type": "stream",
     "text": [
      "Enter your String:  hiii\n"
     ]
    },
    {
     "name": "stdout",
     "output_type": "stream",
     "text": [
      "Reversed string: iiih\n"
     ]
    }
   ],
   "source": [
    "# Prompt the user to enter a string\n",
    "sentence = input('Enter your String: ')\n",
    "\n",
    "# Reverse the string using slicing and print it\n",
    "print(\"Reversed string:\", sentence[::-1])\n"
   ]
  },
  {
   "cell_type": "markdown",
   "id": "a0ce91ac-2ce6-4f38-b9ba-26fe76270aa1",
   "metadata": {
    "tags": []
   },
   "source": [
    "#### 4. Write a program that takes a string as input and checks if it is a palindrome (reads the same forwards and backwards).\n"
   ]
  },
  {
   "cell_type": "code",
   "execution_count": 2,
   "id": "5fc78fd4-4d75-45fd-9325-8ca5e31450ab",
   "metadata": {},
   "outputs": [
    {
     "name": "stdin",
     "output_type": "stream",
     "text": [
      "Enter a word:  hiih\n"
     ]
    },
    {
     "name": "stdout",
     "output_type": "stream",
     "text": [
      "hiih is a palindrome.\n"
     ]
    }
   ],
   "source": [
    "# Prompt the user to enter a word\n",
    "s = input(\"Enter a word: \")\n",
    "\n",
    "# Convert the word to lowercase to make it case-insensitive\n",
    "s = s.lower()\n",
    "\n",
    "# Check if the word is a palindrome by comparing it to its reverse\n",
    "if s == s[::-1]:\n",
    "    print(f'{s} is a palindrome.')\n",
    "else:\n",
    "    print(f'{s} is not a palindrome.')\n"
   ]
  },
  {
   "cell_type": "markdown",
   "id": "646b0591-e9c5-4bff-900e-0ca80082b717",
   "metadata": {},
   "source": [
    "#### 5. Create a program that takes a string as input and removes all the spaces from it. Print the modified string without spaces."
   ]
  },
  {
   "cell_type": "code",
   "execution_count": 3,
   "id": "ca3be5b4-3f42-44d8-9e35-a9839dcb4206",
   "metadata": {},
   "outputs": [
    {
     "name": "stdin",
     "output_type": "stream",
     "text": [
      "Enter a word:  hi there , this is sruthi\n"
     ]
    },
    {
     "name": "stdout",
     "output_type": "stream",
     "text": [
      "Modified string after removing spaces: hithere,thisissruthi\n"
     ]
    }
   ],
   "source": [
    "# Prompt the user to enter a word\n",
    "s = input(\"Enter a word: \")\n",
    "\n",
    "# Remove spaces from the word using the replace() method\n",
    "s = s.replace(\" \", \"\")\n",
    "\n",
    "# Print the modified string without spaces\n",
    "print(f\"Modified string after removing spaces: {s}\")\n"
   ]
  },
  {
   "cell_type": "code",
   "execution_count": null,
   "id": "89aa6fab-76a4-4e48-933a-1ac81c626f43",
   "metadata": {},
   "outputs": [],
   "source": []
  }
 ],
 "metadata": {
  "kernelspec": {
   "display_name": "Python 3 (ipykernel)",
   "language": "python",
   "name": "python3"
  },
  "language_info": {
   "codemirror_mode": {
    "name": "ipython",
    "version": 3
   },
   "file_extension": ".py",
   "mimetype": "text/x-python",
   "name": "python",
   "nbconvert_exporter": "python",
   "pygments_lexer": "ipython3",
   "version": "3.10.8"
  }
 },
 "nbformat": 4,
 "nbformat_minor": 5
}
